{
 "cells": [
  {
   "cell_type": "code",
   "execution_count": null,
   "id": "ee4fac2c",
   "metadata": {
    "vscode": {
     "languageId": "plaintext"
    }
   },
   "outputs": [],
   "source": [
    "!pip install faiss-cpu sentence-transformers transformers accelerate torch\n"
   ]
  },
  {
   "cell_type": "code",
   "execution_count": null,
   "id": "cfc97e21",
   "metadata": {
    "vscode": {
     "languageId": "plaintext"
    }
   },
   "outputs": [],
   "source": [
    "import numpy as np\n",
    "from sentence_transformers import SentenceTransformer\n",
    "import faiss\n",
    "import torch\n",
    "from transformers import AutoTokenizer, AutoModelForCausalLM\n"
   ]
  },
  {
   "cell_type": "code",
   "execution_count": null,
   "id": "8fe30f07",
   "metadata": {
    "vscode": {
     "languageId": "plaintext"
    }
   },
   "outputs": [],
   "source": [
    "embedder = SentenceTransformer(\"all-MiniLM-L6-v2\")\n"
   ]
  },
  {
   "cell_type": "code",
   "execution_count": null,
   "id": "80d18f4c",
   "metadata": {
    "vscode": {
     "languageId": "plaintext"
    }
   },
   "outputs": [],
   "source": [
    "PROMPTS = {\n",
    "    \"base_retrieval_prompt\": {\n",
    "        \"role\": \"You are a helpful Shoplite customer service assistant.\",\n",
    "        \"goal\": \"Provide accurate answers using only the provided Shoplite documentation.\",\n",
    "        \"context_guidelines\": [\n",
    "            \"Use only information from the provided document snippets\",\n",
    "            \"Cite specific documents when possible\"\n",
    "        ],\n",
    "        \"response_format\": \"Answer: [Your response based on context]\\nSources: [List document titles referenced]\"\n",
    "    },\n",
    "    \"complex_question_prompt\": {\n",
    "        \"role\": \"You are a knowledgeable Shoplite support agent.\",\n",
    "        \"goal\": \"Synthesize information from multiple documents to answer complex queries.\",\n",
    "        \"context_guidelines\": [\n",
    "            \"Combine insights from various documents\",\n",
    "            \"Ensure clarity and coherence in the response\"\n",
    "        ],\n",
    "        \"response_format\": \"Answer: [Your comprehensive response]\\nSources: [List all relevant document titles]\"\n",
    "    },\n",
    "    \"clarification_prompt\": {\n",
    "        \"role\": \"You are a Shoplite assistant.\",\n",
    "        \"goal\": \"Ask for clarification when the user's question is ambiguous.\",\n",
    "        \"context_guidelines\": [\n",
    "            \"Identify unclear aspects of the question\",\n",
    "            \"Encourage the user to provide more details\"\n",
    "        ],\n",
    "        \"response_format\": \"Answer: \\\"Could you please clarify your question regarding [specific topic]?\\\"\\nSources: []\"\n",
    "    },\n",
    "    \"refusal_prompt\": {\n",
    "        \"role\": \"You are a Shoplite assistant.\",\n",
    "        \"goal\": \"Politely refuse to answer questions that cannot be addressed with the available documentation.\",\n",
    "        \"context_guidelines\": [\n",
    "            \"Explain the limitation of the knowledge base\"\n",
    "        ],\n",
    "        \"response_format\": \"Answer: \\\"I'm sorry, but I cannot provide information on that topic as it is not covered in our documentation.\\\"\\nSources: []\"\n",
    "    }\n",
    "}\n"
   ]
  },
  {
   "cell_type": "code",
   "execution_count": null,
   "id": "2fb0324e",
   "metadata": {
    "vscode": {
     "languageId": "plaintext"
    }
   },
   "outputs": [],
   "source": [
    "docs = [\n",
    "    (\"Doc1: How to Sign Up\", \"Signing up for Shoplite is easy...\"),\n",
    "    (\"Doc2: Using the Shopping Cart\", \"The shopping cart on Shoplite is really useful...\"),\n",
    "    (\"Doc3: Paying Safely on Shoplite\", \"Shoplite offers several ways to pay...\"),\n",
    "    (\"Doc4: Tracking Your Orders\", \"After you place an order on Shoplite...\"),\n",
    "    (\"Doc5: Returns and Refunds\", \"Shoplite understands that sometimes...\"),\n",
    "    (\"Doc6: Writing Reviews\", \"After you buy something on Shoplite...\"),\n",
    "    (\"Doc7: Becoming a Seller\", \"If you want to sell things on Shoplite...\"),\n",
    "    (\"Doc8: Managing Inventory\", \"Shoplite gives sellers tools to manage inventory...\"),\n",
    "    (\"Doc9: Seller Fees\", \"Shoplite charges sellers a fee...\"),\n",
    "    (\"Doc10: Getting Help\", \"If you ever need help on Shoplite...\"),\n",
    "    (\"Doc11: The Mobile App\", \"Shoplite has a mobile app that makes shopping easier...\"),\n",
    "    (\"Doc12: Developer Tools\", \"Shoplite offers an API for developers...\"),\n",
    "    (\"Doc13: Security and Privacy\", \"Shoplite takes security and privacy seriously...\"),\n",
    "    (\"Doc14: Promo Codes\", \"Shoplite often gives out promo codes and discounts...\"),\n",
    "    (\"Doc15: Finding Products\", \"Shoplite makes it easy to find products...\"),\n",
    "    (\"Doc16: Giving Feedback\", \"Shoplite wants to keep getting better, so they ask users for feedback...\"),\n",
    "    (\"Doc17: Community Rules and Affiliates\", \"Shoplite has rules to keep the community safe and friendly...\")\n",
    "]\n",
    "\n",
    "doc_titles = [d[0] for d in docs]\n",
    "doc_texts = [d[1] for d in docs]\n",
    "doc_embeddings = embedder.encode(doc_texts, convert_to_numpy=True)\n"
   ]
  },
  {
   "cell_type": "code",
   "execution_count": null,
   "id": "7bc94d73",
   "metadata": {
    "vscode": {
     "languageId": "plaintext"
    }
   },
   "outputs": [],
   "source": [
    "index = faiss.IndexFlatL2(doc_embeddings.shape[1])\n",
    "index.add(doc_embeddings)\n"
   ]
  },
  {
   "cell_type": "code",
   "execution_count": null,
   "id": "01367d64",
   "metadata": {
    "vscode": {
     "languageId": "plaintext"
    }
   },
   "outputs": [],
   "source": [
    "qa_dict = {\n",
    "    \"How do I create a seller account on Shoplite?\": \"To create a seller account, visit the Shoplite seller registration page, provide business information including tax ID, and complete the verification process which takes 2-3 business days.\",\n",
    "    \"What are Shoplite's return policies and how do I track my order status?\": \"Customers have a 30-day return window for most items. To track your order, log into your account and navigate to the 'Order History' section.\",\n",
    "    \"What payment methods are accepted on Shoplite?\": \"Shoplite accepts various payment methods including credit cards, debit cards, PayPal, and Shoplite gift cards.\",\n",
    "    \"How can I apply a promotional code during checkout?\": \"To apply a promotional code, enter the code in the designated field during the checkout process before finalizing your order.\",\n",
    "    \"What features does the Shoplite mobile app offer?\": \"The Shoplite mobile app allows users to browse products, manage their shopping cart, track orders, and receive notifications about promotions.\",\n",
    "    \"How do I return an item purchased on Shoplite?\": \"To return an item, initiate the return process through your account settings and follow the instructions provided for shipping the item back.\",\n",
    "    \"Can I change my shipping address after placing an order?\": \"You can change your shipping address within 30 minutes of placing your order by contacting customer support.\",\n",
    "    \"What is the commission structure for sellers on Shoplite?\": \"Shoplite charges a commission of 10% on each sale, with additional fees for premium listings.\",\n",
    "    \"How do I leave a product review on Shoplite?\": \"To leave a review, navigate to the product page, click on 'Write a Review', and submit your feedback along with a star rating.\",\n",
    "    \"What should I do if I receive a damaged item?\": \"If you receive a damaged item, contact customer support within 48 hours to initiate a return or exchange.\",\n",
    "    \"How can sellers manage their inventory on Shoplite?\": \"Sellers can manage their inventory through the seller dashboard, where they can add, edit, or remove products as needed.\",\n",
    "    \"What are the security measures in place for online transactions?\": \"Shoplite employs SSL encryption and complies with PCI DSS standards to ensure secure online transactions.\",\n",
    "    \"How do I contact Shoplite customer support?\": \"You can contact Shoplite customer support via email, phone, or live chat available on the website.\",\n",
    "    \"Are there any restrictions on promotional codes?\": \"Yes, promotional codes may have restrictions such as expiration dates and minimum purchase amounts.\",\n",
    "    \"How can I track my order delivery status?\": \"You can track your order delivery status by logging into your account and checking the 'Order History' section for updates.\",\n",
    "    \"What types of products can I sell on Shoplite?\": \"Sellers can list a wide range of products, including electronics, clothing, and home goods, as long as they comply with Shoplite's policies.\",\n",
    "    \"How do I reset my Shoplite account password?\": \"To reset your password, go to the login page, click on 'Forgot Password', and follow the instructions sent to your registered email.\",\n",
    "    \"What are the benefits of using the Shoplite mobile app?\": \"The Shoplite mobile app offers convenience, personalized recommendations, and exclusive app-only discounts.\",\n",
    "    \"How do I report a problem with a seller?\": \"To report a problem with a seller, use the 'Report Seller' feature on their profile page or contact customer support directly.\",\n",
    "    \"What should I do if my payment fails during checkout?\": \"If your payment fails, check your payment details and try again. If the issue persists, contact your bank or Shoplite customer support for assistance.\"\n",
    "}"
   ]
  },
  {
   "cell_type": "code",
   "execution_count": null,
   "id": "15a156ca",
   "metadata": {
    "vscode": {
     "languageId": "plaintext"
    }
   },
   "outputs": [],
   "source": [
    "model_name = \"meta-llama/Llama-2-7b-chat-hf\"  \n",
    "hf_token = input(\"Enter your Hugging Face token: \").strip()\n",
    "\n",
    "tokenizer = AutoTokenizer.from_pretrained(model_name, use_auth_token=hf_token)\n",
    "model = AutoModelForCausalLM.from_pretrained(\n",
    "    model_name,\n",
    "    torch_dtype=torch.float16,\n",
    "    device_map=\"auto\",\n",
    "    use_auth_token=hf_token\n",
    ")\n",
    "\n",
    "\n",
    "def query_llama(prompt, max_new_tokens=150):\n",
    "    inputs = tokenizer(prompt, return_tensors=\"pt\").to(model.device)\n",
    "    outputs = model.generate(**inputs, max_new_tokens=max_new_tokens, do_sample=True, temperature=0.7)\n",
    "    text = tokenizer.decode(outputs[0], skip_special_tokens=True)\n",
    "    if prompt.strip() in text:\n",
    "        text = text.replace(prompt, \"\").strip()\n",
    "    return text.strip()\n"
   ]
  },
  {
   "cell_type": "code",
   "execution_count": null,
   "id": "01b6a3b0",
   "metadata": {
    "vscode": {
     "languageId": "plaintext"
    }
   },
   "outputs": [],
   "source": [
    "def retrieve_with_scores(query, top_k=3):\n",
    "    q_emb = embedder.encode([query], convert_to_numpy=True)[0]\n",
    "    q_norm = np.linalg.norm(q_emb)\n",
    "    doc_norms = np.linalg.norm(doc_embeddings, axis=1)\n",
    "    sims = (doc_embeddings @ q_emb) / (q_norm * doc_norms + 1e-10)\n",
    "    idx = np.argsort(-sims)[:top_k]\n",
    "    results = [(doc_titles[i], doc_texts[i], float(sims[i])) for i in idx]\n",
    "    return results, float(np.max(sims))"
   ]
  },
  {
   "cell_type": "code",
   "execution_count": null,
   "id": "7558a22e",
   "metadata": {
    "vscode": {
     "languageId": "plaintext"
    }
   },
   "outputs": [],
   "source": [
    "SMALLTALK_TRIGGERS = [\"hi\",\"hello\",\"hey\",\"how are you\",\"thanks\",\"thank you\",\"bye\",\"goodbye\"]\n",
    "\n",
    "def is_smalltalk(query):\n",
    "    q = query.lower().strip()\n",
    "    return any(trig in q for trig in SMALLTALK_TRIGGERS)\n"
   ]
  },
  {
   "cell_type": "code",
   "execution_count": null,
   "id": "1f7ebeb9",
   "metadata": {
    "vscode": {
     "languageId": "plaintext"
    }
   },
   "outputs": [],
   "source": [
    "SIMILARITY_THRESHOLD = 0.35\n",
    "QA_SIM_THRESHOLD = 0.7\n",
    "\n",
    "def chat():\n",
    "    print(\"🤖 Shoplite Chatbot ready! Type 'exit' to quit.\\n\")\n",
    "    while True:\n",
    "        try:\n",
    "            query = input(\"You: \").strip()\n",
    "        except (EOFError, KeyboardInterrupt):\n",
    "            print(\"\\nGoodbye! 👋\")\n",
    "            break\n",
    "\n",
    "        if not query:\n",
    "            continue\n",
    "        if query.lower() in [\"exit\",\"quit\"]:\n",
    "            print(\"Goodbye! 👋\")\n",
    "            break\n",
    "\n",
    "        if is_smalltalk(query):\n",
    "            prompt = f\"You are a friendly Shoplite assistant. Respond casually.\\nUser: {query}\\nAssistant:\"\n",
    "            response = query_llama(prompt, max_new_tokens=60)\n",
    "\n",
    "            for line in [f\"User: {query}\", \"Assistant:\"]:\n",
    "                if line in response:\n",
    "                    response = response.replace(line, \"\").strip()\n",
    "            print(f\"Bot: {response}\\n\")\n",
    "            continue\n",
    "\n",
    "        query_emb = embedder.encode([query], convert_to_numpy=True)[0]\n",
    "        best_qa = None\n",
    "        best_score = -1\n",
    "        for q_text, ans in qa_dict.items():\n",
    "            q_emb = embedder.encode([q_text], convert_to_numpy=True)[0]\n",
    "            sim = np.dot(query_emb, q_emb) / (np.linalg.norm(query_emb)*np.linalg.norm(q_emb)+1e-10)\n",
    "            if sim > best_score:\n",
    "                best_score = sim\n",
    "                best_qa = ans\n",
    "        if best_score >= QA_SIM_THRESHOLD:\n",
    "            print(f\"Bot (QA match): {best_qa}\\n\")\n",
    "            continue\n",
    "\n",
    "        retrieved, best_sim = retrieve_with_scores(query, top_k=3)\n",
    "        if best_sim < SIMILARITY_THRESHOLD:\n",
    "            print(\"Bot: Sorry — that's outside the Shoplite knowledge base.\\n\")\n",
    "            continue\n",
    "\n",
    "        context_snippets = [f\"{title} (score={score:.3f}):\\n{text}\" for title, text, score in retrieved]\n",
    "        context = \"\\n\\n\".join(context_snippets)\n",
    "        prompt = (\n",
    "            \"You are a helpful Shoplite customer service assistant. Answer using ONLY the context below.\\n\\n\"\n",
    "            f\"Context:\\n{context}\\n\\nUser: {query}\\nAssistant:\"\n",
    "        )\n",
    "        response = query_llama(prompt, max_new_tokens=200)\n",
    "        sources = \", \".join([t for t,_,_ in retrieved])\n",
    "        print(f\"Bot: {response}\\nSources: {sources}\\n\")"
   ]
  },
  {
   "cell_type": "code",
   "execution_count": null,
   "id": "c5447448",
   "metadata": {
    "vscode": {
     "languageId": "plaintext"
    }
   },
   "outputs": [],
   "source": [
    "if __name__ == \"__main__\":\n",
    "    chat()"
   ]
  }
 ],
 "metadata": {
  "language_info": {
   "name": "python"
  }
 },
 "nbformat": 4,
 "nbformat_minor": 5
}
